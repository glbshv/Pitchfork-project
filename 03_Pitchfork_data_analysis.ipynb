{
 "cells": [
  {
   "cell_type": "markdown",
   "metadata": {},
   "source": [
    "**Pitchfork review analysis**\n",
    "\n",
    "The idea behind the analysis is to show if Pitchfork authors have a certain bias towards any genre of music and later if the review data can help us create a model which can predict an album rating based on two variables:\n",
    "\n",
    "- Name of the authour\n",
    "- Name of the music genre\n",
    "\n",
    "The dataset used for this notebook was scraped of www.pitchfork.com on 11.04.2020. The script to do so is available here:  "
   ]
  },
  {
   "cell_type": "code",
   "execution_count": 3,
   "metadata": {},
   "outputs": [],
   "source": [
    "import pandas as pd\n",
    "import datetime as dt\n",
    "from bs4 import BeautifulSoup\n",
    "import urllib.request"
   ]
  },
  {
   "cell_type": "markdown",
   "metadata": {},
   "source": [
    "Let's import the dataset with scraped pages of pitchfork and take a look at it's shape:"
   ]
  },
  {
   "cell_type": "code",
   "execution_count": 4,
   "metadata": {},
   "outputs": [
    {
     "data": {
      "text/plain": [
       "(22367, 8)"
      ]
     },
     "execution_count": 4,
     "metadata": {},
     "output_type": "execute_result"
    }
   ],
   "source": [
    "csv_file = pd.read_csv('02_Pitchfork_reviews_11042020.csv', encoding='utf-8')\n",
    "pitchfork = csv_file\n",
    "pitchfork.shape"
   ]
  },
  {
   "cell_type": "code",
   "execution_count": 5,
   "metadata": {},
   "outputs": [
    {
     "data": {
      "text/html": [
       "<div>\n",
       "<style scoped>\n",
       "    .dataframe tbody tr th:only-of-type {\n",
       "        vertical-align: middle;\n",
       "    }\n",
       "\n",
       "    .dataframe tbody tr th {\n",
       "        vertical-align: top;\n",
       "    }\n",
       "\n",
       "    .dataframe thead th {\n",
       "        text-align: right;\n",
       "    }\n",
       "</style>\n",
       "<table border=\"1\" class=\"dataframe\">\n",
       "  <thead>\n",
       "    <tr style=\"text-align: right;\">\n",
       "      <th></th>\n",
       "      <th>Artist Name</th>\n",
       "      <th>Album Name</th>\n",
       "      <th>Review Score</th>\n",
       "      <th>Best New Music</th>\n",
       "      <th>Genre</th>\n",
       "      <th>Date Published</th>\n",
       "      <th>Written By</th>\n",
       "      <th>Review link</th>\n",
       "    </tr>\n",
       "  </thead>\n",
       "  <tbody>\n",
       "    <tr>\n",
       "      <th>0</th>\n",
       "      <td>Laura Marling</td>\n",
       "      <td>Song for Our Daughter</td>\n",
       "      <td>7.6</td>\n",
       "      <td>NaN</td>\n",
       "      <td>Folk/Country</td>\n",
       "      <td>11/04/2020</td>\n",
       "      <td>Owen Myers</td>\n",
       "      <td>http://pitchfork.com/reviews/albums/laura-marl...</td>\n",
       "    </tr>\n",
       "    <tr>\n",
       "      <th>1</th>\n",
       "      <td>Sun Araw</td>\n",
       "      <td>Rock Sutra</td>\n",
       "      <td>7.3</td>\n",
       "      <td>NaN</td>\n",
       "      <td>Experimental</td>\n",
       "      <td>11/04/2020</td>\n",
       "      <td>Daniel Felsenthal</td>\n",
       "      <td>http://pitchfork.com/reviews/albums/sun-araw-r...</td>\n",
       "    </tr>\n",
       "    <tr>\n",
       "      <th>2</th>\n",
       "      <td>Joni Mitchell</td>\n",
       "      <td>Shine</td>\n",
       "      <td>8.0</td>\n",
       "      <td>NaN</td>\n",
       "      <td>Rock</td>\n",
       "      <td>11/04/2020</td>\n",
       "      <td>Sam Sodomsky</td>\n",
       "      <td>http://pitchfork.com/reviews/albums/joni-mitch...</td>\n",
       "    </tr>\n",
       "    <tr>\n",
       "      <th>3</th>\n",
       "      <td>The Strokes</td>\n",
       "      <td>The New Abnormal</td>\n",
       "      <td>5.7</td>\n",
       "      <td>NaN</td>\n",
       "      <td>Rock</td>\n",
       "      <td>10/04/2020</td>\n",
       "      <td>Sam Sodomsky</td>\n",
       "      <td>http://pitchfork.com/reviews/albums/the-stroke...</td>\n",
       "    </tr>\n",
       "    <tr>\n",
       "      <th>4</th>\n",
       "      <td>Everything Is Recorded</td>\n",
       "      <td>Friday Forever</td>\n",
       "      <td>6.1</td>\n",
       "      <td>NaN</td>\n",
       "      <td>Electronic</td>\n",
       "      <td>10/04/2020</td>\n",
       "      <td>Aimee Cliff</td>\n",
       "      <td>http://pitchfork.com/reviews/albums/everything...</td>\n",
       "    </tr>\n",
       "  </tbody>\n",
       "</table>\n",
       "</div>"
      ],
      "text/plain": [
       "              Artist Name             Album Name  Review Score Best New Music  \\\n",
       "0           Laura Marling  Song for Our Daughter           7.6            NaN   \n",
       "1                Sun Araw             Rock Sutra           7.3            NaN   \n",
       "2           Joni Mitchell                  Shine           8.0            NaN   \n",
       "3             The Strokes       The New Abnormal           5.7            NaN   \n",
       "4  Everything Is Recorded         Friday Forever           6.1            NaN   \n",
       "\n",
       "          Genre Date Published         Written By  \\\n",
       "0  Folk/Country     11/04/2020        Owen Myers    \n",
       "1  Experimental     11/04/2020  Daniel Felsenthal   \n",
       "2          Rock     11/04/2020       Sam Sodomsky   \n",
       "3          Rock     10/04/2020       Sam Sodomsky   \n",
       "4    Electronic     10/04/2020        Aimee Cliff   \n",
       "\n",
       "                                         Review link  \n",
       "0  http://pitchfork.com/reviews/albums/laura-marl...  \n",
       "1  http://pitchfork.com/reviews/albums/sun-araw-r...  \n",
       "2  http://pitchfork.com/reviews/albums/joni-mitch...  \n",
       "3  http://pitchfork.com/reviews/albums/the-stroke...  \n",
       "4  http://pitchfork.com/reviews/albums/everything...  "
      ]
     },
     "execution_count": 5,
     "metadata": {},
     "output_type": "execute_result"
    }
   ],
   "source": [
    "pitchfork.head()"
   ]
  },
  {
   "cell_type": "markdown",
   "metadata": {},
   "source": [
    "We will be looking only at the following columns: **Artist Name**, **Album Name**, **Review Score**, **Best New Music**, **Genre**, **Date Published** and **Written By**.\n",
    "\n",
    "Let's remove the **Review link**:"
   ]
  },
  {
   "cell_type": "code",
   "execution_count": 6,
   "metadata": {},
   "outputs": [
    {
     "data": {
      "text/html": [
       "<div>\n",
       "<style scoped>\n",
       "    .dataframe tbody tr th:only-of-type {\n",
       "        vertical-align: middle;\n",
       "    }\n",
       "\n",
       "    .dataframe tbody tr th {\n",
       "        vertical-align: top;\n",
       "    }\n",
       "\n",
       "    .dataframe thead th {\n",
       "        text-align: right;\n",
       "    }\n",
       "</style>\n",
       "<table border=\"1\" class=\"dataframe\">\n",
       "  <thead>\n",
       "    <tr style=\"text-align: right;\">\n",
       "      <th></th>\n",
       "      <th>Artist Name</th>\n",
       "      <th>Album Name</th>\n",
       "      <th>Review Score</th>\n",
       "      <th>Best New Music</th>\n",
       "      <th>Genre</th>\n",
       "      <th>Date Published</th>\n",
       "    </tr>\n",
       "  </thead>\n",
       "  <tbody>\n",
       "    <tr>\n",
       "      <th>0</th>\n",
       "      <td>Laura Marling</td>\n",
       "      <td>Song for Our Daughter</td>\n",
       "      <td>7.6</td>\n",
       "      <td>NaN</td>\n",
       "      <td>Folk/Country</td>\n",
       "      <td>11/04/2020</td>\n",
       "    </tr>\n",
       "    <tr>\n",
       "      <th>1</th>\n",
       "      <td>Sun Araw</td>\n",
       "      <td>Rock Sutra</td>\n",
       "      <td>7.3</td>\n",
       "      <td>NaN</td>\n",
       "      <td>Experimental</td>\n",
       "      <td>11/04/2020</td>\n",
       "    </tr>\n",
       "    <tr>\n",
       "      <th>2</th>\n",
       "      <td>Joni Mitchell</td>\n",
       "      <td>Shine</td>\n",
       "      <td>8.0</td>\n",
       "      <td>NaN</td>\n",
       "      <td>Rock</td>\n",
       "      <td>11/04/2020</td>\n",
       "    </tr>\n",
       "    <tr>\n",
       "      <th>3</th>\n",
       "      <td>The Strokes</td>\n",
       "      <td>The New Abnormal</td>\n",
       "      <td>5.7</td>\n",
       "      <td>NaN</td>\n",
       "      <td>Rock</td>\n",
       "      <td>10/04/2020</td>\n",
       "    </tr>\n",
       "    <tr>\n",
       "      <th>4</th>\n",
       "      <td>Everything Is Recorded</td>\n",
       "      <td>Friday Forever</td>\n",
       "      <td>6.1</td>\n",
       "      <td>NaN</td>\n",
       "      <td>Electronic</td>\n",
       "      <td>10/04/2020</td>\n",
       "    </tr>\n",
       "  </tbody>\n",
       "</table>\n",
       "</div>"
      ],
      "text/plain": [
       "              Artist Name             Album Name  Review Score Best New Music  \\\n",
       "0           Laura Marling  Song for Our Daughter           7.6            NaN   \n",
       "1                Sun Araw             Rock Sutra           7.3            NaN   \n",
       "2           Joni Mitchell                  Shine           8.0            NaN   \n",
       "3             The Strokes       The New Abnormal           5.7            NaN   \n",
       "4  Everything Is Recorded         Friday Forever           6.1            NaN   \n",
       "\n",
       "          Genre Date Published  \n",
       "0  Folk/Country     11/04/2020  \n",
       "1  Experimental     11/04/2020  \n",
       "2          Rock     11/04/2020  \n",
       "3          Rock     10/04/2020  \n",
       "4    Electronic     10/04/2020  "
      ]
     },
     "execution_count": 6,
     "metadata": {},
     "output_type": "execute_result"
    }
   ],
   "source": [
    "pitchfork_dataset = pitchfork.iloc[:,0:6]\n",
    "pitchfork_dataset.head()"
   ]
  },
  {
   "cell_type": "markdown",
   "metadata": {},
   "source": [
    "Let's inspect the data types in the Pitchfork dataset:"
   ]
  },
  {
   "cell_type": "code",
   "execution_count": 7,
   "metadata": {},
   "outputs": [
    {
     "data": {
      "text/plain": [
       "Artist Name        object\n",
       "Album Name         object\n",
       "Review Score      float64\n",
       "Best New Music     object\n",
       "Genre              object\n",
       "Date Published     object\n",
       "dtype: object"
      ]
     },
     "execution_count": 7,
     "metadata": {},
     "output_type": "execute_result"
    }
   ],
   "source": [
    "pitchfork_dataset.dtypes"
   ]
  },
  {
   "cell_type": "markdown",
   "metadata": {},
   "source": [
    "We are expecting that **Artist Name**, **Album Name**, **Best New Music** and **Genre** will contain only strings which is correct. **Best New Music** most of the times will be empty because only a few albums get this recognition.\n",
    "\n",
    "However, **Date Published** is read in incorrectly. Let's transform it into correct date format - `datetime64[ns]`:"
   ]
  },
  {
   "cell_type": "code",
   "execution_count": 8,
   "metadata": {},
   "outputs": [
    {
     "data": {
      "text/plain": [
       "Artist Name               object\n",
       "Album Name                object\n",
       "Review Score             float64\n",
       "Best New Music            object\n",
       "Genre                     object\n",
       "Date Published    datetime64[ns]\n",
       "dtype: object"
      ]
     },
     "execution_count": 8,
     "metadata": {},
     "output_type": "execute_result"
    }
   ],
   "source": [
    "pitchfork_dataset['Date Published'] = pd.to_datetime(pitchfork_dataset['Date Published'], format='%d/%m/%Y')\n",
    "pitchfork_dataset.dtypes"
   ]
  },
  {
   "cell_type": "markdown",
   "metadata": {},
   "source": [
    "Now all columns have correct data types!\n",
    "\n",
    "(TO-DO PITCHFORK GENRE DESCRIPTION)"
   ]
  },
  {
   "cell_type": "code",
   "execution_count": 10,
   "metadata": {},
   "outputs": [
    {
     "data": {
      "text/html": [
       "<div>\n",
       "<style scoped>\n",
       "    .dataframe tbody tr th:only-of-type {\n",
       "        vertical-align: middle;\n",
       "    }\n",
       "\n",
       "    .dataframe tbody tr th {\n",
       "        vertical-align: top;\n",
       "    }\n",
       "\n",
       "    .dataframe thead th {\n",
       "        text-align: right;\n",
       "    }\n",
       "</style>\n",
       "<table border=\"1\" class=\"dataframe\">\n",
       "  <thead>\n",
       "    <tr style=\"text-align: right;\">\n",
       "      <th></th>\n",
       "      <th>Genres of Pitchfork</th>\n",
       "    </tr>\n",
       "  </thead>\n",
       "  <tbody>\n",
       "    <tr>\n",
       "      <th>0</th>\n",
       "      <td>Electronic</td>\n",
       "    </tr>\n",
       "    <tr>\n",
       "      <th>1</th>\n",
       "      <td>Folk</td>\n",
       "    </tr>\n",
       "    <tr>\n",
       "      <th>2</th>\n",
       "      <td>Jazz</td>\n",
       "    </tr>\n",
       "    <tr>\n",
       "      <th>3</th>\n",
       "      <td>Pop/R&amp;B</td>\n",
       "    </tr>\n",
       "    <tr>\n",
       "      <th>4</th>\n",
       "      <td>Rap/Hip-Hop</td>\n",
       "    </tr>\n",
       "    <tr>\n",
       "      <th>5</th>\n",
       "      <td>Experimental</td>\n",
       "    </tr>\n",
       "    <tr>\n",
       "      <th>6</th>\n",
       "      <td>Global</td>\n",
       "    </tr>\n",
       "    <tr>\n",
       "      <th>7</th>\n",
       "      <td>Metal</td>\n",
       "    </tr>\n",
       "    <tr>\n",
       "      <th>8</th>\n",
       "      <td>Rock</td>\n",
       "    </tr>\n",
       "  </tbody>\n",
       "</table>\n",
       "</div>"
      ],
      "text/plain": [
       "  Genres of Pitchfork\n",
       "0          Electronic\n",
       "1                Folk\n",
       "2                Jazz\n",
       "3             Pop/R&B\n",
       "4         Rap/Hip-Hop\n",
       "5        Experimental\n",
       "6              Global\n",
       "7               Metal\n",
       "8                Rock"
      ]
     },
     "execution_count": 10,
     "metadata": {},
     "output_type": "execute_result"
    }
   ],
   "source": [
    "pitchfork_link = BeautifulSoup(urllib.request.urlopen('https://pitchfork.com/artists/').read(), 'lxml')\n",
    "extracted_genres = pitchfork_link.find_all('h1', class_=\"artist-group__heading\")\n",
    "\n",
    "genre_list = []\n",
    "for genre in extracted_genres:\n",
    "    genre_list.append(genre.text)\n",
    "\n",
    "pitchfork_genres = pd.DataFrame({\"Genres of Pitchfork\": genre_list})\n",
    "\n",
    "pitchfork_genres"
   ]
  }
 ],
 "metadata": {
  "kernelspec": {
   "display_name": "Python 3",
   "language": "python",
   "name": "python3"
  },
  "language_info": {
   "codemirror_mode": {
    "name": "ipython",
    "version": 3
   },
   "file_extension": ".py",
   "mimetype": "text/x-python",
   "name": "python",
   "nbconvert_exporter": "python",
   "pygments_lexer": "ipython3",
   "version": "3.7.6"
  }
 },
 "nbformat": 4,
 "nbformat_minor": 4
}
